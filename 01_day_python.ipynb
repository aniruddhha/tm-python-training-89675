{
  "nbformat": 4,
  "nbformat_minor": 0,
  "metadata": {
    "colab": {
      "provenance": []
    },
    "kernelspec": {
      "name": "python3",
      "display_name": "Python 3"
    },
    "language_info": {
      "name": "python"
    }
  },
  "cells": [
    {
      "cell_type": "markdown",
      "source": [
        "# **Intro**"
      ],
      "metadata": {
        "id": "SEPb5wM09nJB"
      }
    },
    {
      "cell_type": "code",
      "source": [
        "print('Hello World')"
      ],
      "metadata": {
        "colab": {
          "base_uri": "https://localhost:8080/"
        },
        "id": "T370MCWYemjr",
        "outputId": "75a56314-26e5-4363-bf8a-2cdb71cb650d"
      },
      "execution_count": null,
      "outputs": [
        {
          "output_type": "stream",
          "name": "stdout",
          "text": [
            "Hello World\n"
          ]
        }
      ]
    },
    {
      "cell_type": "code",
      "source": [
        "print(\"Hello World\")"
      ],
      "metadata": {
        "colab": {
          "base_uri": "https://localhost:8080/"
        },
        "id": "KvBT5OgKfNA3",
        "outputId": "8e2b1712-e4f9-4504-e131-1128b0d1c35b"
      },
      "execution_count": null,
      "outputs": [
        {
          "output_type": "stream",
          "name": "stdout",
          "text": [
            "Hello World\n"
          ]
        }
      ]
    },
    {
      "cell_type": "code",
      "source": [],
      "metadata": {
        "id": "NZZZwOR5h1J5"
      },
      "execution_count": null,
      "outputs": []
    },
    {
      "cell_type": "markdown",
      "source": [
        "# **Variables and Data Types**"
      ],
      "metadata": {
        "id": "28F314NBh1mr"
      }
    },
    {
      "cell_type": "code",
      "source": [
        "num1 = 10\n",
        "num2 = 20"
      ],
      "metadata": {
        "id": "I0qOZMTRh-kW"
      },
      "execution_count": null,
      "outputs": []
    },
    {
      "cell_type": "code",
      "source": [
        "res1 = num1 + num2"
      ],
      "metadata": {
        "id": "NokoEAtciSfu"
      },
      "execution_count": null,
      "outputs": []
    },
    {
      "cell_type": "code",
      "source": [
        "res2 = num1 - num2"
      ],
      "metadata": {
        "id": "hdN1IJeLiapY"
      },
      "execution_count": null,
      "outputs": []
    },
    {
      "cell_type": "code",
      "source": [
        "res3 = num1 * num2"
      ],
      "metadata": {
        "id": "jBuLGs5BidPb"
      },
      "execution_count": null,
      "outputs": []
    },
    {
      "cell_type": "code",
      "source": [
        "res4 = num1 / num2"
      ],
      "metadata": {
        "id": "k002WwDMifPF"
      },
      "execution_count": null,
      "outputs": []
    },
    {
      "cell_type": "code",
      "source": [
        "print('Addition')\n",
        "print(res1)\n",
        "\n",
        "print('Subtraction')\n",
        "print(res2)\n",
        "\n",
        "print('Multiplication')\n",
        "print(res3)\n",
        "\n",
        "print('Division')\n",
        "print(res4)"
      ],
      "metadata": {
        "colab": {
          "base_uri": "https://localhost:8080/"
        },
        "id": "bwhTCSesisBt",
        "outputId": "1cb25796-de84-42bc-c4d9-9337c2fd168b"
      },
      "execution_count": null,
      "outputs": [
        {
          "output_type": "stream",
          "name": "stdout",
          "text": [
            "Addition\n",
            "30\n",
            "Subtraction\n",
            "-10\n",
            "Multiplication\n",
            "200\n",
            "Division\n",
            "0.5\n"
          ]
        }
      ]
    },
    {
      "cell_type": "code",
      "source": [
        "a = 90\n",
        "A = 90"
      ],
      "metadata": {
        "id": "0TPOP7Hnkhtf"
      },
      "execution_count": null,
      "outputs": []
    },
    {
      "cell_type": "code",
      "source": [
        "emp_sal = 90"
      ],
      "metadata": {
        "id": "ptQNlmvHk29y"
      },
      "execution_count": null,
      "outputs": []
    },
    {
      "cell_type": "code",
      "source": [
        "emp1_age = 45  # integer - int\n",
        "emp1_sal = 56.78 # decimal - float\n",
        "emp1_dep = \"it\" # text - string\n",
        "emp1_status = True # yes/no - boolean"
      ],
      "metadata": {
        "id": "zvOhYz1AlEhs"
      },
      "execution_count": null,
      "outputs": []
    },
    {
      "cell_type": "code",
      "source": [
        "# num1 = 90 - comment"
      ],
      "metadata": {
        "id": "lZ0G2UCllxeM"
      },
      "execution_count": null,
      "outputs": []
    },
    {
      "cell_type": "code",
      "source": [
        "emp2_age = 40  # integer - int\n",
        "emp2_sal = 89 # decimal - float\n",
        "emp2_dep = \"sales\" # text - string\n",
        "emp2_status = False # yes/no - boolean"
      ],
      "metadata": {
        "id": "yv5QrAAomuQB"
      },
      "execution_count": null,
      "outputs": []
    },
    {
      "cell_type": "code",
      "source": [
        "print(emp1_age)\n",
        "print(emp1_sal)\n",
        "print(emp1_dep)\n",
        "print(emp1_status)"
      ],
      "metadata": {
        "colab": {
          "base_uri": "https://localhost:8080/"
        },
        "id": "KmKjYDHYnCAw",
        "outputId": "15800e61-0294-4a2a-f6f0-dcb9281a3705"
      },
      "execution_count": null,
      "outputs": [
        {
          "output_type": "stream",
          "name": "stdout",
          "text": [
            "45\n",
            "56.78\n",
            "it\n",
            "True\n"
          ]
        }
      ]
    },
    {
      "cell_type": "code",
      "source": [
        "print(f\"Employee Age {emp1_age}\")"
      ],
      "metadata": {
        "colab": {
          "base_uri": "https://localhost:8080/"
        },
        "id": "UV5fUw8YnIdX",
        "outputId": "4460b2f9-0919-423f-d0c6-a4ea9bc8ff07"
      },
      "execution_count": null,
      "outputs": [
        {
          "output_type": "stream",
          "name": "stdout",
          "text": [
            "Employee Age 45\n"
          ]
        }
      ]
    },
    {
      "cell_type": "code",
      "source": [
        "print(\"Employee Age\")\n",
        "print(emp1_age)"
      ],
      "metadata": {
        "colab": {
          "base_uri": "https://localhost:8080/"
        },
        "id": "9kgf06V0nxqR",
        "outputId": "5aa08759-10a5-4ab6-c6a8-afecc9abab7d"
      },
      "execution_count": null,
      "outputs": [
        {
          "output_type": "stream",
          "name": "stdout",
          "text": [
            "Employee Age\n",
            "45\n"
          ]
        }
      ]
    },
    {
      "cell_type": "code",
      "source": [
        "print(f\"Employee Age {emp1_age} and Salary {emp1_sal} and Department {emp1_dep}\")"
      ],
      "metadata": {
        "colab": {
          "base_uri": "https://localhost:8080/"
        },
        "id": "8Jhn9RakoHzQ",
        "outputId": "ecb6aea9-83fb-472b-d3cb-1d4774b2ed61"
      },
      "execution_count": null,
      "outputs": [
        {
          "output_type": "stream",
          "name": "stdout",
          "text": [
            "Employee Age 45 and Salary 56.78 and Department it\n"
          ]
        }
      ]
    },
    {
      "cell_type": "markdown",
      "source": [
        "# **Functions**"
      ],
      "metadata": {
        "id": "YeQvlYEKogYw"
      }
    },
    {
      "cell_type": "code",
      "source": [
        "num1 = 10\n",
        "num2 = 90\n",
        "\n",
        "res = num1 + num2\n",
        "print(f'Addition of {num1} and {num2} is {res}')"
      ],
      "metadata": {
        "colab": {
          "base_uri": "https://localhost:8080/"
        },
        "id": "6XVtZfLFophl",
        "outputId": "872f001c-041f-45d3-8e4b-548480b21374"
      },
      "execution_count": null,
      "outputs": [
        {
          "output_type": "stream",
          "name": "stdout",
          "text": [
            "Addition of 10 and 90 is 100\n"
          ]
        }
      ]
    },
    {
      "cell_type": "code",
      "source": [
        "num1 = 78\n",
        "num2 = 23\n",
        "\n",
        "res = num1 + num2\n",
        "print(f'Addition of {num1} and {num2} is {res}')"
      ],
      "metadata": {
        "colab": {
          "base_uri": "https://localhost:8080/"
        },
        "id": "h4zJeGqTo9oh",
        "outputId": "a4a57fb9-2972-46d9-eec1-793487df02d6"
      },
      "execution_count": null,
      "outputs": [
        {
          "output_type": "stream",
          "name": "stdout",
          "text": [
            "Addition of 78 and 23 is 101\n"
          ]
        }
      ]
    },
    {
      "cell_type": "code",
      "source": [
        "num1 = 53\n",
        "num2 = 19\n",
        "\n",
        "res = num1 + num2\n",
        "print(f'Addition of {num1} and {num2} is {res}')"
      ],
      "metadata": {
        "colab": {
          "base_uri": "https://localhost:8080/"
        },
        "id": "X5Mj6IjnpAUO",
        "outputId": "276a0e28-5070-413c-f487-83a2fb88ac97"
      },
      "execution_count": null,
      "outputs": [
        {
          "output_type": "stream",
          "name": "stdout",
          "text": [
            "Addition of 53 and 19 is 72\n"
          ]
        }
      ]
    },
    {
      "cell_type": "code",
      "source": [
        "# created a function with 2 parameters\n",
        "# function body is performing addition of 2 numbers\n",
        "def add_numbers(n1, n2):\n",
        "  # after the tab function body starts\n",
        "  res = n1 + n2\n",
        "  print(f'Addition of {n1} and {n2} is {res}')"
      ],
      "metadata": {
        "id": "gdWCVp96pUNS"
      },
      "execution_count": null,
      "outputs": []
    },
    {
      "cell_type": "code",
      "source": [
        "# I need to call function\n",
        "\n",
        "add_numbers(10, 20) # n1 = 10, n2 = 20 , res = 30\n",
        "add_numbers(45, 90) # n1 = 45, n2 = 90 , res = 135\n",
        "add_numbers(67, 23)"
      ],
      "metadata": {
        "colab": {
          "base_uri": "https://localhost:8080/"
        },
        "id": "zpvttkHjqKDf",
        "outputId": "899ae088-2681-4d5f-d9a9-927d856d1415"
      },
      "execution_count": null,
      "outputs": [
        {
          "output_type": "stream",
          "name": "stdout",
          "text": [
            "Addition of 10 and 20 is 30\n",
            "Addition of 45 and 90 is 135\n",
            "Addition of 67 and 23 is 90\n"
          ]
        }
      ]
    },
    {
      "cell_type": "code",
      "source": [
        "def sub_numbers(n1, n2):\n",
        "  res = n1 - n2 # processing\n",
        "  return res # result of processing is returned"
      ],
      "metadata": {
        "id": "hQuRqSpUr5Dh"
      },
      "execution_count": null,
      "outputs": []
    },
    {
      "cell_type": "code",
      "source": [
        "res1 = sub_numbers(45, 78)\n",
        "print(f'Subtraction of 45 and 78 is {res1}')"
      ],
      "metadata": {
        "colab": {
          "base_uri": "https://localhost:8080/"
        },
        "id": "ingWviMmr_NG",
        "outputId": "ce6580bb-e9bf-45f7-ccd4-a7be27b26593"
      },
      "execution_count": null,
      "outputs": [
        {
          "output_type": "stream",
          "name": "stdout",
          "text": [
            "Subtraction of 45 and 78 is -33\n"
          ]
        }
      ]
    },
    {
      "cell_type": "code",
      "source": [
        "def write_to_register(addr):\n",
        "  # plc function to write it\n",
        "  return True"
      ],
      "metadata": {
        "id": "9elrz6yys3HH"
      },
      "execution_count": null,
      "outputs": []
    },
    {
      "cell_type": "code",
      "source": [
        "def calculate_gst(amt):\n",
        "  gst = amt * 0.18\n",
        "  # print(f'1. GST amount is {gst}')\n",
        "  return gst"
      ],
      "metadata": {
        "id": "E5fPwppGtP40"
      },
      "execution_count": null,
      "outputs": []
    },
    {
      "cell_type": "code",
      "source": [
        "pro_gst = calculate_gst(15000)\n",
        "print(f'2. GST amount is {pro_gst}')"
      ],
      "metadata": {
        "colab": {
          "base_uri": "https://localhost:8080/"
        },
        "id": "iqh-0AgntZ7n",
        "outputId": "d5d583ab-0417-47fa-8f48-23eafbff69c6"
      },
      "execution_count": null,
      "outputs": [
        {
          "output_type": "stream",
          "name": "stdout",
          "text": [
            "2. GST amount is 2700.0\n"
          ]
        }
      ]
    },
    {
      "cell_type": "code",
      "source": [
        "Amt = 10000\n",
        "GST_rate = 0.80\n",
        "GSTAMT = Amt * GST_rate\n",
        "print(f\"GST amount is: {GSTAMT}\")"
      ],
      "metadata": {
        "colab": {
          "base_uri": "https://localhost:8080/"
        },
        "id": "Nh2r6eh1u04q",
        "outputId": "2d3cec29-b2b2-40d8-e1b4-9e2147f3595e"
      },
      "execution_count": null,
      "outputs": [
        {
          "output_type": "stream",
          "name": "stdout",
          "text": [
            "GST amount is: 8000.0\n"
          ]
        }
      ]
    },
    {
      "cell_type": "code",
      "source": [
        "Amt = 10000\n",
        "GST_rate = 0.80\n",
        "GSTAMT = Amt * GST_rate\n",
        "print(f\"GST amount is: {GSTAMT}\")"
      ],
      "metadata": {
        "colab": {
          "base_uri": "https://localhost:8080/"
        },
        "id": "K_WhHwKYvkI-",
        "outputId": "9246901c-5aae-48e1-9538-f3ec30085260"
      },
      "execution_count": null,
      "outputs": [
        {
          "output_type": "stream",
          "name": "stdout",
          "text": [
            "GST amount is: 1800.0\n"
          ]
        }
      ]
    },
    {
      "cell_type": "code",
      "source": [
        "Amt = 100000\n",
        "GST_rate = 0.18\n",
        "GSTAMT = Amt * GST_rate\n",
        "print(f\"GST amount is: {GSTAMT}\")"
      ],
      "metadata": {
        "colab": {
          "base_uri": "https://localhost:8080/"
        },
        "id": "XP_UuPN8vyVc",
        "outputId": "afcfcf6a-69f7-4dbf-f47b-3b349ac1e81d"
      },
      "execution_count": null,
      "outputs": [
        {
          "output_type": "stream",
          "name": "stdout",
          "text": [
            "GST amount is: 18000.0\n"
          ]
        }
      ]
    },
    {
      "cell_type": "code",
      "source": [
        "def calculate_gst(amt, gst_rate):\n",
        "  gst = amt * gst_rate\n",
        "  return gst\n",
        "  # print(f'Gst is {gst}')"
      ],
      "metadata": {
        "id": "NXz9Oi0Fv1bH"
      },
      "execution_count": null,
      "outputs": []
    },
    {
      "cell_type": "code",
      "source": [
        "def prepare_invoice(amt, gst):\n",
        "  total_amt = amt + gst\n",
        "  print(f'Total Amount is {total_amt}')"
      ],
      "metadata": {
        "id": "O9OLrbzTwZFE"
      },
      "execution_count": null,
      "outputs": []
    },
    {
      "cell_type": "code",
      "source": [
        "amt = 80000\n",
        "gst = calculate_gst(amt, 0.18)\n",
        "prepare_invoice(amt, gst)"
      ],
      "metadata": {
        "colab": {
          "base_uri": "https://localhost:8080/"
        },
        "id": "A16KtZfjwwb4",
        "outputId": "a94df8ba-3343-475b-f616-1a209cd6d74e"
      },
      "execution_count": null,
      "outputs": [
        {
          "output_type": "stream",
          "name": "stdout",
          "text": [
            "Total Amount is 94400.0\n"
          ]
        }
      ]
    },
    {
      "cell_type": "markdown",
      "source": [
        "# **Conditional Statements**"
      ],
      "metadata": {
        "id": "_Nxe_D_i1epa"
      }
    },
    {
      "cell_type": "code",
      "source": [
        "# conditional statements\n",
        "\n",
        "# lets creating grading example to understand conditional statements if else\n",
        "\n",
        "marks = 78\n",
        "\n",
        "if marks >= 23:\n",
        "  print(\"Pass\")\n",
        "else :\n",
        "  print(\"Fail\")"
      ],
      "metadata": {
        "colab": {
          "base_uri": "https://localhost:8080/"
        },
        "id": "TchbhP2H0Awq",
        "outputId": "9ff6cf0d-8e4b-4fbf-d230-07461962056e"
      },
      "execution_count": null,
      "outputs": [
        {
          "output_type": "stream",
          "name": "stdout",
          "text": [
            "Pass\n"
          ]
        }
      ]
    },
    {
      "cell_type": "code",
      "source": [
        "def check_pass_fail(marks):\n",
        "  if marks >= 23:\n",
        "    print(\"Pass\")\n",
        "  else :\n",
        "    print(\"Fail\")"
      ],
      "metadata": {
        "id": "ewGfTQpT04SR"
      },
      "execution_count": null,
      "outputs": []
    },
    {
      "cell_type": "code",
      "source": [
        "check_pass_fail(56)\n",
        "check_pass_fail(5)"
      ],
      "metadata": {
        "colab": {
          "base_uri": "https://localhost:8080/"
        },
        "id": "o4xCQOa404Mr",
        "outputId": "da59e63f-3aa8-4d3e-8130-5e00742bc592"
      },
      "execution_count": null,
      "outputs": [
        {
          "output_type": "stream",
          "name": "stdout",
          "text": [
            "Pass\n",
            "Fail\n"
          ]
        }
      ]
    },
    {
      "cell_type": "code",
      "source": [
        "def check_grade(marks):\n",
        "  if marks >= 90:\n",
        "    print(\"Grade A\")\n",
        "  elif marks >= 70:\n",
        "    print(\"Grade B\")\n",
        "  elif marks >= 50:\n",
        "    print(\"Grade C\")\n",
        "  else:\n",
        "    print(\"Fail\")"
      ],
      "metadata": {
        "id": "ICEni5mp1NoK"
      },
      "execution_count": null,
      "outputs": []
    },
    {
      "cell_type": "code",
      "source": [
        "check_grade(78)"
      ],
      "metadata": {
        "colab": {
          "base_uri": "https://localhost:8080/"
        },
        "id": "SJXJ3xGD1XZb",
        "outputId": "fd458173-0928-4cee-ef75-d7dabf05ff39"
      },
      "execution_count": null,
      "outputs": [
        {
          "output_type": "stream",
          "name": "stdout",
          "text": [
            "Grade B\n"
          ]
        }
      ]
    },
    {
      "cell_type": "markdown",
      "source": [
        "# **Loops**"
      ],
      "metadata": {
        "id": "76RQz1yx1xFq"
      }
    },
    {
      "cell_type": "code",
      "source": [
        "print('Hello World')\n",
        "print('Hello World')\n",
        "print('Hello World')\n",
        "print('Hello World')\n",
        "print('Hello World')"
      ],
      "metadata": {
        "colab": {
          "base_uri": "https://localhost:8080/"
        },
        "id": "tHVYVepe1wk4",
        "outputId": "1d049ddb-d54f-4f0f-d495-97337f18c1da"
      },
      "execution_count": null,
      "outputs": [
        {
          "output_type": "stream",
          "name": "stdout",
          "text": [
            "Hello World\n",
            "Hello World\n",
            "Hello World\n",
            "Hello World\n",
            "Hello World\n"
          ]
        }
      ]
    },
    {
      "cell_type": "code",
      "source": [
        "cnt = 0\n",
        "\n",
        "while cnt < 5: #\n",
        "  print('Hello World')\n",
        "  cnt = cnt + 1 #"
      ],
      "metadata": {
        "colab": {
          "base_uri": "https://localhost:8080/"
        },
        "id": "xo2gn0ie2Af4",
        "outputId": "afd40fe1-8b1f-4b89-9b40-1b7ee4e8fb99"
      },
      "execution_count": null,
      "outputs": [
        {
          "output_type": "stream",
          "name": "stdout",
          "text": [
            "Hello World\n",
            "Hello World\n",
            "Hello World\n",
            "Hello World\n",
            "Hello World\n"
          ]
        }
      ]
    },
    {
      "cell_type": "code",
      "source": [
        "for i in range(5):\n",
        "  print('Hello World')"
      ],
      "metadata": {
        "colab": {
          "base_uri": "https://localhost:8080/"
        },
        "id": "qAK_8YJR2_Km",
        "outputId": "d081b501-186a-4e70-a3e9-1886667ba958"
      },
      "execution_count": null,
      "outputs": [
        {
          "output_type": "stream",
          "name": "stdout",
          "text": [
            "Hello World\n",
            "Hello World\n",
            "Hello World\n",
            "Hello World\n",
            "Hello World\n"
          ]
        }
      ]
    },
    {
      "cell_type": "markdown",
      "source": [
        "# **Data Structures**"
      ],
      "metadata": {
        "id": "uOLL-9Fs4Dcz"
      }
    },
    {
      "cell_type": "code",
      "source": [
        "# list - []\n",
        "audit_scores = [85, 85, 90, 78, 92, 92, 100]\n",
        "print(audit_scores)\n",
        "print(audit_scores[0])\n",
        "print(audit_scores[1])\n",
        "audit_scores[1] = 1111\n",
        "print(audit_scores)\n",
        "\n",
        "print(set(audit_scores))"
      ],
      "metadata": {
        "colab": {
          "base_uri": "https://localhost:8080/"
        },
        "id": "VoSxBL3x4Hz0",
        "outputId": "ea3bb90c-f64a-4910-b2a3-8b43a199ac57"
      },
      "execution_count": null,
      "outputs": [
        {
          "output_type": "stream",
          "name": "stdout",
          "text": [
            "[85, 85, 90, 78, 92, 92, 100]\n",
            "85\n",
            "85\n",
            "[85, 1111, 90, 78, 92, 92, 100]\n",
            "{100, 78, 85, 1111, 90, 92}\n"
          ]
        }
      ]
    },
    {
      "cell_type": "code",
      "source": [
        "# tuple - ()\n",
        "year_month = (2024, \"June\")\n",
        "print(year_month)\n",
        "print(year_month[0])\n",
        "print(year_month[1])\n",
        "year_month[1] = \"July\"\n",
        "print(year_month)"
      ],
      "metadata": {
        "colab": {
          "base_uri": "https://localhost:8080/",
          "height": 251
        },
        "id": "Zc3vlT0N5P4T",
        "outputId": "a159b436-742e-48b5-ef35-b8d21fe13243"
      },
      "execution_count": null,
      "outputs": [
        {
          "output_type": "stream",
          "name": "stdout",
          "text": [
            "(2024, 'June')\n",
            "2024\n",
            "June\n"
          ]
        },
        {
          "output_type": "error",
          "ename": "TypeError",
          "evalue": "'tuple' object does not support item assignment",
          "traceback": [
            "\u001b[0;31m---------------------------------------------------------------------------\u001b[0m",
            "\u001b[0;31mTypeError\u001b[0m                                 Traceback (most recent call last)",
            "\u001b[0;32m/tmp/ipython-input-118-2959383454.py\u001b[0m in \u001b[0;36m<cell line: 0>\u001b[0;34m()\u001b[0m\n\u001b[1;32m      4\u001b[0m \u001b[0mprint\u001b[0m\u001b[0;34m(\u001b[0m\u001b[0myear_month\u001b[0m\u001b[0;34m[\u001b[0m\u001b[0;36m0\u001b[0m\u001b[0;34m]\u001b[0m\u001b[0;34m)\u001b[0m\u001b[0;34m\u001b[0m\u001b[0;34m\u001b[0m\u001b[0m\n\u001b[1;32m      5\u001b[0m \u001b[0mprint\u001b[0m\u001b[0;34m(\u001b[0m\u001b[0myear_month\u001b[0m\u001b[0;34m[\u001b[0m\u001b[0;36m1\u001b[0m\u001b[0;34m]\u001b[0m\u001b[0;34m)\u001b[0m\u001b[0;34m\u001b[0m\u001b[0;34m\u001b[0m\u001b[0m\n\u001b[0;32m----> 6\u001b[0;31m \u001b[0myear_month\u001b[0m\u001b[0;34m[\u001b[0m\u001b[0;36m1\u001b[0m\u001b[0;34m]\u001b[0m \u001b[0;34m=\u001b[0m \u001b[0;34m\"July\"\u001b[0m\u001b[0;34m\u001b[0m\u001b[0;34m\u001b[0m\u001b[0m\n\u001b[0m\u001b[1;32m      7\u001b[0m \u001b[0mprint\u001b[0m\u001b[0;34m(\u001b[0m\u001b[0myear_month\u001b[0m\u001b[0;34m)\u001b[0m\u001b[0;34m\u001b[0m\u001b[0;34m\u001b[0m\u001b[0m\n",
            "\u001b[0;31mTypeError\u001b[0m: 'tuple' object does not support item assignment"
          ]
        }
      ]
    },
    {
      "cell_type": "code",
      "source": [
        "# dictionary - {key: value}\n",
        "employee = {\"id\": 101, \"name\": \"Sam\", \"active\": True}\n",
        "print(employee)\n",
        "print(employee[\"id\"])\n",
        "print(employee[\"name\"])\n",
        "print(employee[\"active\"])\n",
        "employee[\"active\"] = False\n",
        "print(employee)"
      ],
      "metadata": {
        "colab": {
          "base_uri": "https://localhost:8080/"
        },
        "id": "hdDJW8z05pB7",
        "outputId": "dfd2079b-4e72-409d-d963-e74754811196"
      },
      "execution_count": null,
      "outputs": [
        {
          "output_type": "stream",
          "name": "stdout",
          "text": [
            "{'id': 101, 'name': 'Sam', 'active': True}\n",
            "101\n",
            "Sam\n",
            "True\n",
            "{'id': 101, 'name': 'Sam', 'active': False}\n"
          ]
        }
      ]
    },
    {
      "cell_type": "code",
      "source": [
        "# set - {  }\n",
        "unique_items = {1, 2, 3, 2, 10, 1}\n",
        "print(unique_items)\n",
        "print(unique_items[0])"
      ],
      "metadata": {
        "colab": {
          "base_uri": "https://localhost:8080/",
          "height": 198
        },
        "id": "EK_5fiiM6Ar9",
        "outputId": "80ddc1e0-e351-462f-997d-7e8771d7fecf"
      },
      "execution_count": null,
      "outputs": [
        {
          "output_type": "stream",
          "name": "stdout",
          "text": [
            "{3, 1, 10, 2}\n"
          ]
        },
        {
          "output_type": "error",
          "ename": "TypeError",
          "evalue": "'set' object is not subscriptable",
          "traceback": [
            "\u001b[0;31m---------------------------------------------------------------------------\u001b[0m",
            "\u001b[0;31mTypeError\u001b[0m                                 Traceback (most recent call last)",
            "\u001b[0;32m/tmp/ipython-input-120-3257477793.py\u001b[0m in \u001b[0;36m<cell line: 0>\u001b[0;34m()\u001b[0m\n\u001b[1;32m      2\u001b[0m \u001b[0munique_items\u001b[0m \u001b[0;34m=\u001b[0m \u001b[0;34m{\u001b[0m\u001b[0;36m1\u001b[0m\u001b[0;34m,\u001b[0m \u001b[0;36m2\u001b[0m\u001b[0;34m,\u001b[0m \u001b[0;36m3\u001b[0m\u001b[0;34m,\u001b[0m \u001b[0;36m2\u001b[0m\u001b[0;34m,\u001b[0m \u001b[0;36m10\u001b[0m\u001b[0;34m,\u001b[0m \u001b[0;36m1\u001b[0m\u001b[0;34m}\u001b[0m\u001b[0;34m\u001b[0m\u001b[0;34m\u001b[0m\u001b[0m\n\u001b[1;32m      3\u001b[0m \u001b[0mprint\u001b[0m\u001b[0;34m(\u001b[0m\u001b[0munique_items\u001b[0m\u001b[0;34m)\u001b[0m\u001b[0;34m\u001b[0m\u001b[0;34m\u001b[0m\u001b[0m\n\u001b[0;32m----> 4\u001b[0;31m \u001b[0mprint\u001b[0m\u001b[0;34m(\u001b[0m\u001b[0munique_items\u001b[0m\u001b[0;34m[\u001b[0m\u001b[0;36m0\u001b[0m\u001b[0;34m]\u001b[0m\u001b[0;34m)\u001b[0m\u001b[0;34m\u001b[0m\u001b[0;34m\u001b[0m\u001b[0m\n\u001b[0m",
            "\u001b[0;31mTypeError\u001b[0m: 'set' object is not subscriptable"
          ]
        }
      ]
    },
    {
      "cell_type": "code",
      "source": [
        "audit_scores = [85, 85, 90, 78, 92, 92, 100]\n",
        "unique_scores = []\n",
        "\n",
        "for score in audit_scores:\n",
        "  if score not in unique_scores:\n",
        "    unique_scores.append(score)\n",
        "\n",
        "print(unique_scores)\n"
      ],
      "metadata": {
        "colab": {
          "base_uri": "https://localhost:8080/"
        },
        "id": "cF9Rfsan8HfA",
        "outputId": "0acd0efa-2ad6-4c93-ddf0-97aa1cc28788"
      },
      "execution_count": null,
      "outputs": [
        {
          "output_type": "stream",
          "name": "stdout",
          "text": [
            "[85, 90, 78, 92, 100]\n"
          ]
        }
      ]
    },
    {
      "cell_type": "markdown",
      "source": [
        "# **Modules**"
      ],
      "metadata": {
        "id": "oUIgwlyV9sf4"
      }
    },
    {
      "cell_type": "code",
      "source": [
        "import os\n",
        "\n",
        "cur_dir = os.getcwd()\n",
        "print(cur_dir)"
      ],
      "metadata": {
        "colab": {
          "base_uri": "https://localhost:8080/"
        },
        "id": "9RThYd2V9reX",
        "outputId": "ccf559d3-d24d-4c04-fcd3-c19fb14db0aa"
      },
      "execution_count": null,
      "outputs": [
        {
          "output_type": "stream",
          "name": "stdout",
          "text": [
            "/content\n"
          ]
        }
      ]
    },
    {
      "cell_type": "code",
      "source": [
        "from datetime import datetime\n",
        "\n",
        "now = datetime.now()\n",
        "print(\"Current date and time:\", now)"
      ],
      "metadata": {
        "colab": {
          "base_uri": "https://localhost:8080/"
        },
        "id": "HGx9gg5Y_CvE",
        "outputId": "3a623928-127f-4a7b-9cc9-4fd2fddfe0d6"
      },
      "execution_count": null,
      "outputs": [
        {
          "output_type": "stream",
          "name": "stdout",
          "text": [
            "Current date and time: 2025-06-26 11:26:16.378937\n"
          ]
        }
      ]
    },
    {
      "cell_type": "code",
      "source": [
        "now = datetime.now()\n",
        "formatted = now.strftime(\"%d-%m-%Y\")\n",
        "print(\"Formatted date and time:\", formatted)"
      ],
      "metadata": {
        "colab": {
          "base_uri": "https://localhost:8080/"
        },
        "id": "HQjByz-R_bAy",
        "outputId": "b08d2800-0726-4dfd-8ada-31ddb8c6c2ae"
      },
      "execution_count": null,
      "outputs": [
        {
          "output_type": "stream",
          "name": "stdout",
          "text": [
            "Formatted date and time: 26-06-2025\n"
          ]
        }
      ]
    },
    {
      "cell_type": "markdown",
      "source": [
        "# **File Handling**"
      ],
      "metadata": {
        "id": "Pwk5ICUkAbPT"
      }
    },
    {
      "cell_type": "code",
      "source": [
        "import csv\n",
        "\n",
        "file = open('./sample_data/california_housing_test.csv')\n",
        "csv_reader = csv.reader(file)\n",
        "for row in csv_reader:\n",
        "    print(row)"
      ],
      "metadata": {
        "id": "WepoVKY7Aqgp"
      },
      "execution_count": null,
      "outputs": []
    },
    {
      "cell_type": "code",
      "source": [
        "file2 = open('./audit_scores.txt', 'w')\n",
        "\n",
        "audit_scores = [85, 85, 90, 78, 92, 92, 100]\n",
        "\n",
        "for score in audit_scores:\n",
        "  file2.write(str(score))\n",
        "  file2.write(',') # home work\n",
        "\n",
        "file2.close()"
      ],
      "metadata": {
        "id": "FmbcvlprCpxR"
      },
      "execution_count": null,
      "outputs": []
    },
    {
      "cell_type": "code",
      "source": [
        "file3 = open('./audit_scores.txt', 'r')\n",
        "file_content = file3.read()\n",
        "print(file_content)"
      ],
      "metadata": {
        "colab": {
          "base_uri": "https://localhost:8080/"
        },
        "id": "33QfK77tDvH0",
        "outputId": "c9beb91d-3c77-4168-bbeb-bcb8de5b01cc"
      },
      "execution_count": null,
      "outputs": [
        {
          "output_type": "stream",
          "name": "stdout",
          "text": [
            "85,85,90,78,92,92,100,\n"
          ]
        }
      ]
    }
  ]
}